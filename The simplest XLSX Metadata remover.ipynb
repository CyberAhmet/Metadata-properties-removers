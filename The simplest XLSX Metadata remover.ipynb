{
 "cells": [
  {
   "cell_type": "code",
   "execution_count": 1,
   "id": "f03f0db7",
   "metadata": {},
   "outputs": [],
   "source": [
    "import openpyxl\n",
    "from datetime import datetime\n",
    "\n",
    "datetime_str = '09/19/20 00:00:00' # for example\n",
    "\n",
    "datetime_object = datetime.strptime(datetime_str, '%m/%d/%y %H:%M:%S')"
   ]
  },
  {
   "cell_type": "code",
   "execution_count": 5,
   "id": "ff75906a",
   "metadata": {},
   "outputs": [],
   "source": [
    "path_in = \"path to the source xlsx file\"\n",
    "path_out = \"path to thte target xlsx file\""
   ]
  },
  {
   "cell_type": "code",
   "execution_count": 6,
   "id": "89d1f8c8",
   "metadata": {},
   "outputs": [
    {
     "name": "stdout",
     "output_type": "stream",
     "text": [
      "<openpyxl.packaging.core.DocumentProperties object>\n",
      "Parameters:\n",
      "creator=None, title=None, description=None, subject=None, identifier=None, language=None, created=datetime.datetime(2019, 1, 28, 12, 56, 8), modified=datetime.datetime(2023, 3, 9, 20, 32, 14), lastModifiedBy='Microsoft Office User', category=None, contentStatus=None, version=None, revision=None, keywords=None, lastPrinted=datetime.datetime(2019, 2, 13, 8, 21, 50)\n",
      "<openpyxl.packaging.core.DocumentProperties object>\n",
      "Parameters:\n",
      "creator=' ', title=' ', description=' ', subject=' ', identifier=' ', language=' ', created=datetime.datetime(2020, 9, 19, 0, 0), modified=datetime.datetime(2020, 9, 19, 0, 0), lastModifiedBy=' ', category=' ', contentStatus=' ', version='1', revision=' ', keywords=' ', lastPrinted=datetime.datetime(2020, 9, 19, 0, 0)\n"
     ]
    }
   ],
   "source": [
    "# Define variable to load the wookbook\n",
    "wb = openpyxl.load_workbook(path_in)\n",
    "print (wb.properties) \n",
    "\n",
    "wb.properties.creator = \" \"\n",
    "wb.properties.title = ' '\n",
    "wb.properties.description = ' '\n",
    "wb.properties.subject = ' '\n",
    "wb.properties.identifier = ' '\n",
    "wb.properties.language = ' '\n",
    "wb.properties.created = datetime_object\n",
    "wb.properties.modified = datetime_object\n",
    "wb.properties.lastModifiedBy = ' ' \n",
    "wb.properties.category = ' '\n",
    "wb.properties.contentStatus = ' '\n",
    "wb.properties.version = 1\n",
    "wb.properties.revision = ' '\n",
    "wb.properties.keywords = ' '\n",
    "wb.properties.lastPrinted = datetime_object\n",
    "print (wb.properties)        \n",
    "    \n",
    "wb.save(path_out)"
   ]
  },
  {
   "cell_type": "code",
   "execution_count": null,
   "id": "d06a8af5",
   "metadata": {},
   "outputs": [],
   "source": []
  }
 ],
 "metadata": {
  "kernelspec": {
   "display_name": "Python 3 (ipykernel)",
   "language": "python",
   "name": "python3"
  },
  "language_info": {
   "codemirror_mode": {
    "name": "ipython",
    "version": 3
   },
   "file_extension": ".py",
   "mimetype": "text/x-python",
   "name": "python",
   "nbconvert_exporter": "python",
   "pygments_lexer": "ipython3",
   "version": "3.9.13"
  }
 },
 "nbformat": 4,
 "nbformat_minor": 5
}

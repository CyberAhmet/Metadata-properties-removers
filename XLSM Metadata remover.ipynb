{
 "cells": [
  {
   "cell_type": "code",
   "execution_count": null,
   "id": "d7c337ea",
   "metadata": {},
   "outputs": [],
   "source": [
    "from openpyxl import load_workbook\n",
    "from datetime import datetime\n",
    "\n",
    "datetime_str = '09/19/20 00:00:00'\n",
    "datetime_object = datetime.strptime(datetime_str, '%m/%d/%y %H:%M:%S')"
   ]
  },
  {
   "cell_type": "code",
   "execution_count": null,
   "id": "7622ce09",
   "metadata": {},
   "outputs": [],
   "source": [
    "path_in = \"path to the source XLSM file\"\n",
    "path_out = \"path to thte target XLSM file\""
   ]
  },
  {
   "cell_type": "code",
   "execution_count": null,
   "id": "40275013",
   "metadata": {},
   "outputs": [],
   "source": [
    "# Load the XSLM file\n",
    "wb = load_workbook(path_in, keep_vba=True)   \n",
    "print (wb.properties) \n",
    "\n",
    "wb.properties.creator = \" \"\n",
    "wb.properties.title = ' '\n",
    "wb.properties.description = ' '\n",
    "wb.properties.subject = ' '\n",
    "wb.properties.identifier = ' '\n",
    "wb.properties.language = ' '\n",
    "wb.properties.created = datetime_object\n",
    "wb.properties.modified = datetime_object\n",
    "wb.properties.lastModifiedBy = ' ' \n",
    "wb.properties.category = ' '\n",
    "wb.properties.contentStatus = ' '\n",
    "wb.properties.version = 1\n",
    "wb.properties.revision = ' '\n",
    "wb.properties.keywords = ' '\n",
    "wb.properties.lastPrinted = datetime_object\n",
    "\n",
    "# Remove VBA project metadata\n",
    "wb.vba_project = None\n",
    "print (wb.properties)        \n",
    "    \n",
    "wb.save(path_out)"
   ]
  },
  {
   "cell_type": "code",
   "execution_count": null,
   "id": "5ce227aa",
   "metadata": {},
   "outputs": [],
   "source": []
  }
 ],
 "metadata": {
  "kernelspec": {
   "display_name": "Python 3 (ipykernel)",
   "language": "python",
   "name": "python3"
  },
  "language_info": {
   "codemirror_mode": {
    "name": "ipython",
    "version": 3
   },
   "file_extension": ".py",
   "mimetype": "text/x-python",
   "name": "python",
   "nbconvert_exporter": "python",
   "pygments_lexer": "ipython3",
   "version": "3.9.13"
  }
 },
 "nbformat": 4,
 "nbformat_minor": 5
}

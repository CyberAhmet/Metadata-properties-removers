{
 "cells": [
  {
   "cell_type": "code",
   "execution_count": null,
   "id": "b6bd16b8",
   "metadata": {},
   "outputs": [],
   "source": [
    "import PyPDF2\n",
    "from datetime import datetime"
   ]
  },
  {
   "cell_type": "code",
   "execution_count": null,
   "id": "8be041bd",
   "metadata": {},
   "outputs": [],
   "source": [
    "path_in =  \"path to the source PDF file\"\n",
    "path_out = \"path to thte target PDF file\"\n",
    "\n",
    "datetime_str = '09/19/20 00:00:00' # for example\n",
    "datetime_object = datetime.strptime(datetime_str, '%m/%d/%y %H:%M:%S')"
   ]
  },
  {
   "cell_type": "code",
   "execution_count": null,
   "id": "7c30a778",
   "metadata": {},
   "outputs": [],
   "source": [
    "# Load the PDF file\n",
    "pdf_file = open(path_in, 'rb')\n",
    "pdf_reader = PyPDF2.PdfReader(pdf_file) #edited  DeprecationError: PdfFileReader is deprecated and was removed in PyPDF2 3.0.0. Use PdfReader instead.\n",
    "meta = pdf_reader.metadata\n",
    "\n",
    "print(f'number of pages in the file {len(pdf_reader.pages)}')\n",
    "# All of the following could be None!\n",
    "print(meta)\n",
    "\n",
    "pdf_writer = PyPDF2.PdfWriter()\n",
    "\n",
    "# Add all pages to the writer\n",
    "for page in pdf_reader.pages:\n",
    "    pdf_writer.add_page(page)\n",
    "\n",
    "# Add the metadata\n",
    "pdf_writer.add_metadata(\n",
    "    {\n",
    "        '/Author': ' ',\n",
    "        '/Author_raw': ' ',\n",
    "        '/Creation_date': ' ',\n",
    "        '/Creation_date_raw': ' ',\n",
    "        '/Creator': \" \",\n",
    "        '/Creator_raw': ' ',\n",
    "        '/Modification_date' : ' ',\n",
    "        '/Modification_date_raw' : ' ',\n",
    "        \"/Producer\": \" \",\n",
    "        \"/Producer_raw\": \" \",\n",
    "        \"/Subject\": \" \",\n",
    "        \"/Subject_raw\": \" \",\n",
    "        \"/Title\": \" \",\n",
    "        \"/Title_raw\": \" \",\n",
    "    }\n",
    ")\n",
    "\n",
    "pdf_output = open(path_out, 'wb')\n",
    "pdf_writer.write(pdf_output)\n",
    "pdf_output.close()\n",
    "pdf_file.close()"
   ]
  },
  {
   "cell_type": "code",
   "execution_count": null,
   "id": "9d8de41f",
   "metadata": {},
   "outputs": [],
   "source": []
  }
 ],
 "metadata": {
  "kernelspec": {
   "display_name": "Python 3 (ipykernel)",
   "language": "python",
   "name": "python3"
  },
  "language_info": {
   "codemirror_mode": {
    "name": "ipython",
    "version": 3
   },
   "file_extension": ".py",
   "mimetype": "text/x-python",
   "name": "python",
   "nbconvert_exporter": "python",
   "pygments_lexer": "ipython3",
   "version": "3.9.13"
  }
 },
 "nbformat": 4,
 "nbformat_minor": 5
}

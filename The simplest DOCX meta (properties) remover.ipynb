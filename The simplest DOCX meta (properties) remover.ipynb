{
 "cells": [
  {
   "cell_type": "code",
   "execution_count": null,
   "id": "ff7d22dc",
   "metadata": {},
   "outputs": [],
   "source": [
    "from docx import Document\n",
    "from datetime import datetime\n",
    "\n",
    "datetime_str = '09/19/20 00:00:00' # for example\n",
    "\n",
    "datetime_object = datetime.strptime(datetime_str, '%m/%d/%y %H:%M:%S')"
   ]
  },
  {
   "cell_type": "code",
   "execution_count": null,
   "id": "b9ee4085",
   "metadata": {},
   "outputs": [],
   "source": [
    "path_in = \"path to the source docx file\"\n",
    "path_out = \"path to thte target docx file\""
   ]
  },
  {
   "cell_type": "code",
   "execution_count": null,
   "id": "b6bf2944",
   "metadata": {},
   "outputs": [],
   "source": [
    "document = Document(path_in)\n",
    "core_properties = document.core_properties\n",
    "meta_fields= [\"author\", \n",
    "              \"category\", \n",
    "              \"comments\", \n",
    "              \"content_status\", \n",
    "              \"created\", \n",
    "              \"identifier\", \n",
    "              \"keywords\", \n",
    "              \"language\", \n",
    "              \"last_modified_by\", \n",
    "              \"last_printed\",\n",
    "              \"modified\",\n",
    "              \"revision\", \n",
    "              \"subject\", \n",
    "              \"title\", \n",
    "              \"version\"]\n",
    "for meta_field in meta_fields:\n",
    "    print (meta_field)\n",
    "    try:\n",
    "        setattr(core_properties, meta_field, \"\")\n",
    "    except ValueError:\n",
    "        try:\n",
    "            setattr(core_properties, meta_field, datetime_object)\n",
    "        except ValueError:\n",
    "            setattr(core_properties, meta_field, 1)\n",
    "document.save(path_out)"
   ]
  },
  {
   "cell_type": "code",
   "execution_count": null,
   "id": "368093d4",
   "metadata": {},
   "outputs": [],
   "source": []
  }
 ],
 "metadata": {
  "kernelspec": {
   "display_name": "Python 3 (ipykernel)",
   "language": "python",
   "name": "python3"
  },
  "language_info": {
   "codemirror_mode": {
    "name": "ipython",
    "version": 3
   },
   "file_extension": ".py",
   "mimetype": "text/x-python",
   "name": "python",
   "nbconvert_exporter": "python",
   "pygments_lexer": "ipython3",
   "version": "3.9.13"
  }
 },
 "nbformat": 4,
 "nbformat_minor": 5
}
